{
  "cells": [
    {
      "cell_type": "markdown",
      "metadata": {
        "id": "BE7CWA1uod89"
      },
      "source": [
        "# TryYours - High Resolution Virtual Try On site using HR-VITON.\n",
        "---\n",
        "Demo for Virtual Try On website"
      ]
    },
    {
      "cell_type": "markdown",
      "metadata": {
        "id": "d7-EHvOCoqMv"
      },
      "source": [
        "# 1.Setup\n",
        "- First, in the **Runtime** menu -> **Change runtime type**, make sure to have ```Hardware Accelerator = GPU```\n",
        "- Clone repo and install dependencies.\n",
        "- **It will take few minutes to finish installation**"
      ]
    },
    {
      "cell_type": "code",
      "execution_count": 1,
      "metadata": {
        "id": "lgcmjo79VlG6"
      },
      "outputs": [
        {
          "name": "stderr",
          "output_type": "stream",
          "text": [
            "Cloning into 'TryYours-Virtual-Try-On'...\n",
            "'pip' is not recognized as an internal or external command,\n",
            "operable program or batch file.\n"
          ]
        },
        {
          "name": "stdout",
          "output_type": "stream",
          "text": [
            "Note: you may need to restart the kernel to use updated packages.\n",
            "c:\\Users\\longnh\\mnp\\TryYours-Virtual-Try-On\n"
          ]
        },
        {
          "name": "stderr",
          "output_type": "stream",
          "text": [
            "ERROR: Ignored the following versions that require a different python version: 1.10.0 Requires-Python <3.12,>=3.8; 1.10.0rc1 Requires-Python <3.12,>=3.8; 1.10.0rc2 Requires-Python <3.12,>=3.8; 1.10.1 Requires-Python <3.12,>=3.8; 1.6.2 Requires-Python >=3.7,<3.10; 1.6.3 Requires-Python >=3.7,<3.10; 1.7.0 Requires-Python >=3.7,<3.10; 1.7.1 Requires-Python >=3.7,<3.10; 1.7.2 Requires-Python >=3.7,<3.11; 1.7.3 Requires-Python >=3.7,<3.11; 1.8.0 Requires-Python >=3.8,<3.11; 1.8.0rc1 Requires-Python >=3.8,<3.11; 1.8.0rc2 Requires-Python >=3.8,<3.11; 1.8.0rc3 Requires-Python >=3.8,<3.11; 1.8.0rc4 Requires-Python >=3.8,<3.11; 1.8.1 Requires-Python >=3.8,<3.11; 1.9.0 Requires-Python >=3.8,<3.12; 1.9.0rc1 Requires-Python >=3.8,<3.12; 1.9.0rc2 Requires-Python >=3.8,<3.12; 1.9.0rc3 Requires-Python >=3.8,<3.12; 1.9.1 Requires-Python >=3.8,<3.12\n",
            "ERROR: Could not find a version that satisfies the requirement scipy==1.8.0 (from versions: 0.8.0, 0.9.0, 0.10.0, 0.10.1, 0.11.0, 0.12.0, 0.12.1, 0.13.0, 0.13.1, 0.13.2, 0.13.3, 0.14.0, 0.14.1, 0.15.0, 0.15.1, 0.16.0, 0.16.1, 0.17.0, 0.17.1, 0.18.0, 0.18.1, 0.19.0, 0.19.1, 1.0.0, 1.0.1, 1.1.0, 1.2.0, 1.2.1, 1.2.2, 1.2.3, 1.3.0, 1.3.1, 1.3.2, 1.3.3, 1.4.0, 1.4.1, 1.5.0, 1.5.1, 1.5.2, 1.5.3, 1.5.4, 1.6.0, 1.6.1, 1.9.2, 1.9.3, 1.11.0rc1, 1.11.0rc2, 1.11.0, 1.11.1, 1.11.2, 1.11.3, 1.11.4, 1.12.0rc1, 1.12.0rc2, 1.12.0)\n",
            "ERROR: No matching distribution found for scipy==1.8.0\n",
            "\n",
            "[notice] A new release of pip is available: 23.2.1 -> 23.3.2\n",
            "[notice] To update, run: python.exe -m pip install --upgrade pip\n",
            "C:\\Users\\longnh\\AppData\\Roaming\\Python\\Python312\\site-packages\\IPython\\core\\magics\\osm.py:417: UserWarning: using dhist requires you to install the `pickleshare` library.\n",
            "  self.shell.db['dhist'] = compress_dhist(dhist)[-100:]\n",
            "ERROR: Invalid requirement: \"'git+https://github.com/facebookresearch/detectron2.git'\"\n",
            "\n",
            "[notice] A new release of pip is available: 23.2.1 -> 23.3.2\n",
            "[notice] To update, run: python.exe -m pip install --upgrade pip\n"
          ]
        }
      ],
      "source": [
        "# clone repository\n",
        "!git clone https://github.com/lastdefiance20/TryYours-Virtual-Try-On\n",
        "\n",
        "# install dependencies\n",
        "!pip install tensorboardX av torchgeometry flask flask-ngrok iglovikov_helper_functions cloths_segmentation albumentations\n",
        "%pip install scipy==1.8.0\n",
        "\n",
        "%cd TryYours-Virtual-Try-On\n",
        "# install detectron2\n",
        "!python -m pip install 'git+https://github.com/facebookresearch/detectron2.git'"
      ]
    },
    {
      "cell_type": "markdown",
      "metadata": {
        "id": "BfJ3m3RtrmaG"
      },
      "source": [
        "# 2. Download Pre-trained Models"
      ]
    },
    {
      "cell_type": "code",
      "execution_count": 2,
      "metadata": {
        "id": "gJUHNGLorsAR"
      },
      "outputs": [
        {
          "name": "stdout",
          "output_type": "stream",
          "text": [
            "c:\\Users\\longnh\\mnp\\TryYours-Virtual-Try-On\\HR-VITON-main\n"
          ]
        },
        {
          "name": "stderr",
          "output_type": "stream",
          "text": [
            "'pip' is not recognized as an internal or external command,\n",
            "operable program or batch file.\n",
            "'gdown' is not recognized as an internal or external command,\n",
            "operable program or batch file.\n",
            "'export' is not recognized as an internal or external command,\n",
            "operable program or batch file.\n"
          ]
        },
        {
          "name": "stdout",
          "output_type": "stream",
          "text": [
            "c:\\Users\\longnh\\mnp\\TryYours-Virtual-Try-On\n",
            "c:\\Users\\longnh\\mnp\\TryYours-Virtual-Try-On\\Graphonomy-master\n"
          ]
        },
        {
          "name": "stderr",
          "output_type": "stream",
          "text": [
            "'gdown' is not recognized as an internal or external command,\n",
            "operable program or batch file.\n",
            "'export' is not recognized as an internal or external command,\n",
            "operable program or batch file.\n"
          ]
        },
        {
          "name": "stdout",
          "output_type": "stream",
          "text": [
            "c:\\Users\\longnh\\mnp\\TryYours-Virtual-Try-On\n"
          ]
        },
        {
          "name": "stderr",
          "output_type": "stream",
          "text": [
            "'gdown' is not recognized as an internal or external command,\n",
            "operable program or batch file.\n",
            "'export' is not recognized as an internal or external command,\n",
            "operable program or batch file.\n"
          ]
        }
      ],
      "source": [
        "!pip install --upgrade --no-cache-dir gdown\n",
        "\n",
        "%cd HR-VITON-main\n",
        "!gdown https://drive.google.com/u/0/uc?id=1T5_YDUhYSSKPC_nZMk2NeC-XXUFoYeNy&export=download\n",
        "!gdown https://drive.google.com/u/0/uc?id=1XJTCdRBOPVgVTmqzhVGFAgMm2NLkw5uQ&export=download\n",
        "%cd ../\n",
        "\n",
        "%cd Graphonomy-master\n",
        "!gdown https://drive.google.com/u/0/uc?id=1eUe18HoH05p0yFUd_sN6GXdTj82aW0m9&export=download\n",
        "%cd ../"
      ]
    },
    {
      "cell_type": "markdown",
      "metadata": {
        "id": "spgbozAkpjAm"
      },
      "source": [
        "# 3. Upload Cloth Images\n",
        "Either use sample images or upload other cloth images"
      ]
    },
    {
      "cell_type": "markdown",
      "metadata": {
        "id": "ZiJfNU5irTwI"
      },
      "source": [
        "# 4. Upload Person Images\n",
        "Either use sample images or upload your images"
      ]
    },
    {
      "cell_type": "markdown",
      "metadata": {
        "id": "uoONO03Mvtie"
      },
      "source": [
        "# 5. Check Images\n",
        "check image uploaded successfully"
      ]
    },
    {
      "cell_type": "code",
      "execution_count": 4,
      "metadata": {
        "id": "IUgVQitcs0Vx"
      },
      "outputs": [
        {
          "ename": "ModuleNotFoundError",
          "evalue": "No module named 'matplotlib'",
          "output_type": "error",
          "traceback": [
            "\u001b[1;31m---------------------------------------------------------------------------\u001b[0m",
            "\u001b[1;31mModuleNotFoundError\u001b[0m                       Traceback (most recent call last)",
            "Cell \u001b[1;32mIn[4], line 1\u001b[0m\n\u001b[1;32m----> 1\u001b[0m \u001b[38;5;28;01mimport\u001b[39;00m \u001b[38;5;21;01mmatplotlib\u001b[39;00m\u001b[38;5;21;01m.\u001b[39;00m\u001b[38;5;21;01mpyplot\u001b[39;00m \u001b[38;5;28;01mas\u001b[39;00m \u001b[38;5;21;01mplt\u001b[39;00m\n\u001b[0;32m      2\u001b[0m \u001b[38;5;28;01mimport\u001b[39;00m \u001b[38;5;21;01mcv2\u001b[39;00m\n\u001b[0;32m      4\u001b[0m original \u001b[38;5;241m=\u001b[39m cv2\u001b[38;5;241m.\u001b[39mcvtColor(cv2\u001b[38;5;241m.\u001b[39mimread(\u001b[38;5;124m\"\u001b[39m\u001b[38;5;124m./static/origin_web.jpg\u001b[39m\u001b[38;5;124m\"\u001b[39m), cv2\u001b[38;5;241m.\u001b[39mCOLOR_BGR2RGB)\n",
            "\u001b[1;31mModuleNotFoundError\u001b[0m: No module named 'matplotlib'"
          ]
        }
      ],
      "source": [
        "import matplotlib.pyplot as plt\n",
        "import cv2\n",
        "\n",
        "original = cv2.cvtColor(cv2.imread(\"./static/origin_web.jpg\"), cv2.COLOR_BGR2RGB)\n",
        "cloth = cv2.cvtColor(cv2.imread(\"./static/cloth_web.jpg\"), cv2.COLOR_BGR2RGB)\n",
        "## Display Images\n",
        "fig, axes = plt.subplots(nrows=1, ncols=2)\n",
        "dpi = fig.get_dpi()\n",
        "fig.set_size_inches(900/ dpi, 448 / dpi)\n",
        "plt.subplots_adjust(left=0, right=1, bottom=0, top=1)\n",
        "axes[0].axis('off')\n",
        "axes[0].imshow(original)\n",
        "axes[1].axis('off')\n",
        "axes[1].imshow(cloth)\n",
        "plt.show()"
      ]
    },
    {
      "cell_type": "markdown",
      "metadata": {
        "id": "gmbxZZ5XsoNm"
      },
      "source": [
        "# 6. RUN CODE\n",
        "* It will take less than 2 minute\n",
        "* you can remove background using --background False\n",
        "\n",
        "\n"
      ]
    },
    {
      "cell_type": "code",
      "execution_count": null,
      "metadata": {
        "id": "OLlPAT0nrh0P"
      },
      "outputs": [],
      "source": [
        "!python main.py #--background False"
      ]
    },
    {
      "cell_type": "markdown",
      "metadata": {
        "id": "0ghuTAX2s7U_"
      },
      "source": [
        "# 7. View Results"
      ]
    },
    {
      "cell_type": "code",
      "execution_count": null,
      "metadata": {
        "id": "Ojk__QBku3gD"
      },
      "outputs": [],
      "source": [
        "from PIL import Image\n",
        "from IPython.display import Image\n",
        "\n",
        "image1 = Image(filename=\"./static/finalimg.png\")\n",
        "display(image1)"
      ]
    },
    {
      "cell_type": "markdown",
      "metadata": {
        "id": "0djSVmBD2beu"
      },
      "source": [
        "# We will add Website code later. Enjoy the code!"
      ]
    }
  ],
  "metadata": {
    "accelerator": "GPU",
    "colab": {
      "provenance": []
    },
    "gpuClass": "standard",
    "kernelspec": {
      "display_name": "Python 3",
      "name": "python3"
    },
    "language_info": {
      "codemirror_mode": {
        "name": "ipython",
        "version": 3
      },
      "file_extension": ".py",
      "mimetype": "text/x-python",
      "name": "python",
      "nbconvert_exporter": "python",
      "pygments_lexer": "ipython3",
      "version": "3.12.1"
    }
  },
  "nbformat": 4,
  "nbformat_minor": 0
}
